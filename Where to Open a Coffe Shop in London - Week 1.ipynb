{
    "cells": [
        {
            "cell_type": "markdown",
            "metadata": {
                "collapsed": true
            },
            "source": "# Where to open a Coffee Shop in London\n\n## Business Issue: Market sizing\n\nA young enterpreneur desires to open an Coffee Shop in the whereabouts of London. However, in order to fill its business plan it is required to make an estimation of the expected demand (taking competition into account), so that more precise decision about the business set up can be taken.\n\n## Data Employed: Foursquare and Wikipedia\n\nTo answer its question, we will be using a combination of data from Foursquare and Wikipedia. The former will provide the information we need regarding competition, while wikipedia will provide us a size of the Bourough in terms of population, which will be assumed to be the expected demand. Thus, combining the two data we can calculate the ratio borough population over competition, which will return the expected demand of the business. This, of course, is a resoning based upon several hypothesis, such as equal market shares across competitors, infinite production capacity of all the same,and  willingness (and possibility) to purchase of the entire population."
        },
        {
            "cell_type": "code",
            "execution_count": null,
            "metadata": {},
            "outputs": [],
            "source": ""
        }
    ],
    "metadata": {
        "kernelspec": {
            "display_name": "Python 3.7",
            "language": "python",
            "name": "python3"
        },
        "language_info": {
            "codemirror_mode": {
                "name": "ipython",
                "version": 3
            },
            "file_extension": ".py",
            "mimetype": "text/x-python",
            "name": "python",
            "nbconvert_exporter": "python",
            "pygments_lexer": "ipython3",
            "version": "3.7.9"
        }
    },
    "nbformat": 4,
    "nbformat_minor": 1
}